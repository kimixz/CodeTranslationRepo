{
 "cells": [
  {
   "cell_type": "markdown",
   "id": "7ecf116b",
   "metadata": {
    "tags": [
     "papermill-error-cell-tag"
    ]
   },
   "source": [
    "<span style=\"color:red; font-family:Helvetica Neue, Helvetica, Arial, sans-serif; font-size:2em;\">An Exception was encountered at '<a href=\"#papermill-error-cell\">In [3]</a>'.</span>"
   ]
  },
  {
   "cell_type": "code",
   "execution_count": 1,
   "id": "fae8a23d",
   "metadata": {
    "execution": {
     "iopub.execute_input": "2024-12-03T02:55:09.254624Z",
     "iopub.status.busy": "2024-12-03T02:55:09.254319Z",
     "iopub.status.idle": "2024-12-03T02:55:09.259387Z",
     "shell.execute_reply": "2024-12-03T02:55:09.258976Z"
    },
    "papermill": {
     "duration": 0.015736,
     "end_time": "2024-12-03T02:55:09.261054",
     "exception": false,
     "start_time": "2024-12-03T02:55:09.245318",
     "status": "completed"
    },
    "tags": [
     "injected-parameters"
    ]
   },
   "outputs": [],
   "source": [
    "# Parameters\n",
    "project_name = \"NextCloud\"\n"
   ]
  },
  {
   "cell_type": "code",
   "execution_count": 2,
   "id": "27a61fed",
   "metadata": {
    "execution": {
     "iopub.execute_input": "2024-12-03T02:55:09.265776Z",
     "iopub.status.busy": "2024-12-03T02:55:09.265540Z",
     "iopub.status.idle": "2024-12-03T02:55:09.293813Z",
     "shell.execute_reply": "2024-12-03T02:55:09.293422Z"
    },
    "papermill": {
     "duration": 0.031694,
     "end_time": "2024-12-03T02:55:09.295227",
     "exception": false,
     "start_time": "2024-12-03T02:55:09.263533",
     "status": "completed"
    },
    "tags": []
   },
   "outputs": [],
   "source": [
    "import os\n",
    "import json\n",
    "from tree_sitter_languages import get_parser"
   ]
  },
  {
   "cell_type": "markdown",
   "id": "4d2ffc39",
   "metadata": {
    "tags": [
     "papermill-error-cell-tag"
    ]
   },
   "source": [
    "<span id=\"papermill-error-cell\" style=\"color:red; font-family:Helvetica Neue, Helvetica, Arial, sans-serif; font-size:2em;\">Execution using papermill encountered an exception here and stopped:</span>"
   ]
  },
  {
   "cell_type": "code",
   "execution_count": 3,
   "id": "b463f08e",
   "metadata": {
    "execution": {
     "iopub.execute_input": "2024-12-03T02:55:09.297992Z",
     "iopub.status.busy": "2024-12-03T02:55:09.297814Z",
     "iopub.status.idle": "2024-12-03T02:55:09.434342Z",
     "shell.execute_reply": "2024-12-03T02:55:09.433777Z"
    },
    "papermill": {
     "duration": 0.138941,
     "end_time": "2024-12-03T02:55:09.435243",
     "exception": true,
     "start_time": "2024-12-03T02:55:09.296302",
     "status": "failed"
    },
    "tags": []
   },
   "outputs": [
    {
     "ename": "TypeError",
     "evalue": "__init__() takes exactly 1 argument (2 given)",
     "output_type": "error",
     "traceback": [
      "\u001b[0;31m---------------------------------------------------------------------------\u001b[0m",
      "\u001b[0;31mTypeError\u001b[0m                                 Traceback (most recent call last)",
      "Cell \u001b[0;32mIn[3], line 101\u001b[0m\n\u001b[1;32m     98\u001b[0m                 process_java_file(file_path, output_dir)\n\u001b[1;32m    100\u001b[0m \u001b[38;5;28;01mif\u001b[39;00m \u001b[38;5;18m__name__\u001b[39m \u001b[38;5;241m==\u001b[39m \u001b[38;5;124m\"\u001b[39m\u001b[38;5;124m__main__\u001b[39m\u001b[38;5;124m\"\u001b[39m:\n\u001b[0;32m--> 101\u001b[0m     parser \u001b[38;5;241m=\u001b[39m \u001b[43mget_parser\u001b[49m\u001b[43m(\u001b[49m\u001b[38;5;124;43m'\u001b[39;49m\u001b[38;5;124;43mjava\u001b[39;49m\u001b[38;5;124;43m'\u001b[39;49m\u001b[43m)\u001b[49m \n\u001b[1;32m    102\u001b[0m     base_path \u001b[38;5;241m=\u001b[39m \u001b[38;5;124m\"\u001b[39m\u001b[38;5;124m../../../\u001b[39m\u001b[38;5;124m\"\u001b[39m\n\u001b[1;32m    103\u001b[0m     repo_path \u001b[38;5;241m=\u001b[39m \u001b[38;5;124mf\u001b[39m\u001b[38;5;124m\"\u001b[39m\u001b[38;5;132;01m{\u001b[39;00mbase_path\u001b[38;5;132;01m}\u001b[39;00m\u001b[38;5;124mdataset/\u001b[39m\u001b[38;5;132;01m{\u001b[39;00mproject_name\u001b[38;5;132;01m}\u001b[39;00m\u001b[38;5;124m\"\u001b[39m  \n",
      "File \u001b[0;32mtree_sitter_languages/core.pyx:19\u001b[0m, in \u001b[0;36mtree_sitter_languages.core.get_parser\u001b[0;34m()\u001b[0m\n",
      "File \u001b[0;32mtree_sitter_languages/core.pyx:14\u001b[0m, in \u001b[0;36mtree_sitter_languages.core.get_language\u001b[0;34m()\u001b[0m\n",
      "\u001b[0;31mTypeError\u001b[0m: __init__() takes exactly 1 argument (2 given)"
     ]
    }
   ],
   "source": [
    "def extract_ast_info(node, method_data):\n",
    "    if node.type == 'method_declaration':\n",
    "        if 'methods' not in method_data:\n",
    "            method_data['methods'] = []\n",
    "            \n",
    "        method_info = {}\n",
    "        \n",
    "        method_name_node = node.child_by_field_name('name')\n",
    "        if method_name_node:\n",
    "            method_info['name'] = method_name_node.text.decode('utf-8')\n",
    "            \n",
    "        return_type_node = node.child_by_field_name('type')\n",
    "        if return_type_node:\n",
    "            method_info['return_type'] = return_type_node.text.decode('utf-8')\n",
    "            \n",
    "        parameters_node = node.child_by_field_name('parameters')\n",
    "        if parameters_node:\n",
    "            method_info['parameters'] = []\n",
    "            for param in parameters_node.named_children:\n",
    "                if param.type == 'formal_parameter':\n",
    "                    param_type = param.child_by_field_name('type')\n",
    "                    param_name = param.child_by_field_name('name')\n",
    "                    if param_type and param_name:\n",
    "                        method_info['parameters'].append({\n",
    "                            'type': param_type.text.decode('utf-8'),\n",
    "                            'name': param_name.text.decode('utf-8')\n",
    "                        })\n",
    "\n",
    "        method_info['start_position'] = node.start_byte\n",
    "        method_info['end_position'] = node.end_byte\n",
    "        \n",
    "        body_node = node.child_by_field_name('body')\n",
    "        if body_node:\n",
    "            method_info['body_start'] = body_node.start_byte\n",
    "            method_info['body_end'] = body_node.end_byte\n",
    "        \n",
    "        method_data['methods'].append(method_info)\n",
    "        \n",
    "    if node.type.endswith('_statement'):\n",
    "        if 'code_constructs' not in method_data:\n",
    "            method_data['code_constructs'] = []\n",
    "        if node.type not in method_data['code_constructs']:\n",
    "            method_data['code_constructs'].append(node.type)\n",
    "    \n",
    "    if node.type == 'method_invocation':\n",
    "        method_name_node = node.child_by_field_name('name')\n",
    "        receiver_node = node.child_by_field_name('object')\n",
    "        \n",
    "        if method_name_node:\n",
    "            method_name = method_name_node.text.decode('utf-8')\n",
    "            if 'method_calls' not in method_data:\n",
    "                method_data['method_calls'] = {}\n",
    "            \n",
    "            class_name = 'unknown'\n",
    "            if receiver_node:\n",
    "                class_name = receiver_node.text.decode('utf-8')\n",
    "                \n",
    "            if class_name not in method_data['method_calls']:\n",
    "                method_data['method_calls'][class_name] = []\n",
    "            if method_name not in method_data['method_calls'][class_name]:\n",
    "                method_data['method_calls'][class_name].append(method_name)\n",
    "    \n",
    "    if node.type == 'local_variable_declaration':\n",
    "        declarators = node.named_children[1:]\n",
    "        type_node = node.child_by_field_name('type')\n",
    "        if type_node:\n",
    "            class_name = type_node.text.decode('utf-8')\n",
    "            for declarator in declarators:\n",
    "                variable_node = declarator.child_by_field_name('name')\n",
    "                if variable_node:\n",
    "                    variable_name = variable_node.text.decode('utf-8')\n",
    "                    if 'local_variables' not in method_data:\n",
    "                        method_data['local_variables'] = {}\n",
    "                    method_data['local_variables'][variable_name] = class_name\n",
    "    \n",
    "    for child in node.children:\n",
    "        extract_ast_info(child, method_data)\n",
    "\n",
    "def process_java_file(file_path, output_dir):\n",
    "    with open(file_path, 'r') as file:\n",
    "        java_code = file.read()\n",
    "    tree = parser.parse(java_code.encode())\n",
    "\n",
    "    ast_info={}\n",
    "    extract_ast_info(tree.root_node, ast_info)\n",
    "\n",
    "    file_name = os.path.splitext(os.path.basename(file_path))[0]\n",
    "    output_file = os.path.join(output_dir, f\"{file_name}_ast.json\")\n",
    "    os.makedirs(output_dir, exist_ok=True)\n",
    "    with open(output_file, 'w') as f:\n",
    "        json.dump(ast_info, f, indent=4)\n",
    "\n",
    "def main(repo_path, output_dir):\n",
    "    for root, dirs, files in os.walk(repo_path):\n",
    "        for file in files:\n",
    "            if file.endswith('.java'):\n",
    "                file_path = os.path.join(root, file)\n",
    "                process_java_file(file_path, output_dir)\n",
    "\n",
    "if __name__ == \"__main__\":\n",
    "    parser = get_parser('java') \n",
    "    base_path = \"../../../\"\n",
    "    repo_path = f\"{base_path}dataset/{project_name}\"  \n",
    "    output_dir = f\"{base_path}output/{project_name}/AST\"  \n",
    "    main(repo_path, output_dir)"
   ]
  }
 ],
 "metadata": {
  "kernelspec": {
   "display_name": "code_translation_env",
   "language": "python",
   "name": "python3"
  },
  "language_info": {
   "codemirror_mode": {
    "name": "ipython",
    "version": 3
   },
   "file_extension": ".py",
   "mimetype": "text/x-python",
   "name": "python",
   "nbconvert_exporter": "python",
   "pygments_lexer": "ipython3",
   "version": "3.12.3"
  },
  "papermill": {
   "default_parameters": {},
   "duration": 1.331065,
   "end_time": "2024-12-03T02:55:09.552565",
   "environment_variables": {},
   "exception": true,
   "input_path": "src/Agents/StaticAnalysisAgent/ASTParser.ipynb",
   "output_path": "src/Agents/StaticAnalysisAgent/ASTParser_NextCloud_output.ipynb",
   "parameters": {
    "project_name": "NextCloud"
   },
   "start_time": "2024-12-03T02:55:08.221500",
   "version": "2.6.0"
  }
 },
 "nbformat": 4,
 "nbformat_minor": 5
}